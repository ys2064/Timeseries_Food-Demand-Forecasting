{
  "nbformat": 4,
  "nbformat_minor": 0,
  "metadata": {
    "colab": {
      "provenance": [],
      "authorship_tag": "ABX9TyOBdE6e8D+RG3Buh69aiMEz",
      "include_colab_link": true
    },
    "kernelspec": {
      "name": "python3",
      "display_name": "Python 3"
    },
    "language_info": {
      "name": "python"
    }
  },
  "cells": [
    {
      "cell_type": "markdown",
      "metadata": {
        "id": "view-in-github",
        "colab_type": "text"
      },
      "source": [
        "<a href=\"https://colab.research.google.com/github/ys2064/Timeseries_Food-Demand-Forecasting/blob/main/TCN%20modeling/TCN_modeling.ipynb\" target=\"_parent\"><img src=\"https://colab.research.google.com/assets/colab-badge.svg\" alt=\"Open In Colab\"/></a>"
      ]
    },
    {
      "cell_type": "code",
      "execution_count": 1,
      "metadata": {
        "colab": {
          "base_uri": "https://localhost:8080/"
        },
        "id": "jzPdrDVLaKAN",
        "outputId": "3f3f8dc0-0f69-4497-93bd-3b616cd46cb2"
      },
      "outputs": [
        {
          "output_type": "stream",
          "name": "stdout",
          "text": [
            "Mounted at /content/drive\n"
          ]
        }
      ],
      "source": [
        "from google.colab import drive\n",
        "drive.mount('/content/drive')"
      ]
    },
    {
      "cell_type": "code",
      "source": [
        "import pandas as pd\n",
        "file_path = '/content/drive/My Drive/timeseries dataset/TCN dataset.csv'\n",
        "data = pd.read_csv(file_path)\n",
        "\n",
        "train_set = data[data['week'] <= 100]\n",
        "val_set = data[(data['week'] > 100) & (data['week'] <= 120)]\n",
        "test_set = data[data['week'] > 120]\n",
        "train_set.to_csv('/content/drive/My Drive/TCN/train_set.csv', index=False)\n",
        "val_set.to_csv('/content/drive/My Drive/TCN/val_set.csv', index=False)\n",
        "test_set.to_csv('/content/drive/My Drive/TCN/test_set.csv', index=False)\n",
        "train_weeks = train_set['week'].unique()\n",
        "val_weeks = val_set['week'].unique()\n",
        "test_weeks = test_set['week'].unique()\n",
        "print(f'Train set: Weeks {train_weeks.min()} to {train_weeks.max()} (Total: {len(train_weeks)})')\n",
        "print(f'Validation set: Weeks {val_weeks.min()} to {val_weeks.max()} (Total: {len(val_weeks)})')\n",
        "print(f'Test set: Weeks {test_weeks.min()} to {test_weeks.max()} (Total: {len(test_weeks)})')\n",
        "print(f'Train set shape: {train_set.shape}')\n",
        "print(f'Validation set shape: {val_set.shape}')\n",
        "print(f'Test set shape: {test_set.shape}')"
      ],
      "metadata": {
        "colab": {
          "base_uri": "https://localhost:8080/"
        },
        "id": "CRbq9AZtcOeY",
        "outputId": "63c317da-6c95-4c9e-f59a-c3834beb1f52"
      },
      "execution_count": 3,
      "outputs": [
        {
          "output_type": "stream",
          "name": "stdout",
          "text": [
            "Train set: Weeks 1 to 100 (Total: 100)\n",
            "Validation set: Weeks 101 to 120 (Total: 20)\n",
            "Test set: Weeks 121 to 145 (Total: 25)\n",
            "Train set shape: (306110, 35)\n",
            "Validation set shape: (64195, 35)\n",
            "Test set shape: (81005, 35)\n"
          ]
        }
      ]
    },
    {
      "cell_type": "code",
      "source": [
        "!pip install tensorflow\n",
        "import pandas as pd\n",
        "import numpy as np\n",
        "from sklearn.preprocessing import StandardScaler\n"
      ],
      "metadata": {
        "colab": {
          "base_uri": "https://localhost:8080/"
        },
        "id": "MZEqyMUCgth9",
        "outputId": "c12bacf4-57fe-4f72-e190-7e6388fefbc1"
      },
      "execution_count": 4,
      "outputs": [
        {
          "output_type": "stream",
          "name": "stdout",
          "text": [
            "Requirement already satisfied: tensorflow in /usr/local/lib/python3.10/dist-packages (2.17.1)\n",
            "Requirement already satisfied: absl-py>=1.0.0 in /usr/local/lib/python3.10/dist-packages (from tensorflow) (1.4.0)\n",
            "Requirement already satisfied: astunparse>=1.6.0 in /usr/local/lib/python3.10/dist-packages (from tensorflow) (1.6.3)\n",
            "Requirement already satisfied: flatbuffers>=24.3.25 in /usr/local/lib/python3.10/dist-packages (from tensorflow) (24.3.25)\n",
            "Requirement already satisfied: gast!=0.5.0,!=0.5.1,!=0.5.2,>=0.2.1 in /usr/local/lib/python3.10/dist-packages (from tensorflow) (0.6.0)\n",
            "Requirement already satisfied: google-pasta>=0.1.1 in /usr/local/lib/python3.10/dist-packages (from tensorflow) (0.2.0)\n",
            "Requirement already satisfied: h5py>=3.10.0 in /usr/local/lib/python3.10/dist-packages (from tensorflow) (3.12.1)\n",
            "Requirement already satisfied: libclang>=13.0.0 in /usr/local/lib/python3.10/dist-packages (from tensorflow) (18.1.1)\n",
            "Requirement already satisfied: ml-dtypes<0.5.0,>=0.3.1 in /usr/local/lib/python3.10/dist-packages (from tensorflow) (0.4.1)\n",
            "Requirement already satisfied: opt-einsum>=2.3.2 in /usr/local/lib/python3.10/dist-packages (from tensorflow) (3.4.0)\n",
            "Requirement already satisfied: packaging in /usr/local/lib/python3.10/dist-packages (from tensorflow) (24.2)\n",
            "Requirement already satisfied: protobuf!=4.21.0,!=4.21.1,!=4.21.2,!=4.21.3,!=4.21.4,!=4.21.5,<5.0.0dev,>=3.20.3 in /usr/local/lib/python3.10/dist-packages (from tensorflow) (4.25.5)\n",
            "Requirement already satisfied: requests<3,>=2.21.0 in /usr/local/lib/python3.10/dist-packages (from tensorflow) (2.32.3)\n",
            "Requirement already satisfied: setuptools in /usr/local/lib/python3.10/dist-packages (from tensorflow) (75.1.0)\n",
            "Requirement already satisfied: six>=1.12.0 in /usr/local/lib/python3.10/dist-packages (from tensorflow) (1.17.0)\n",
            "Requirement already satisfied: termcolor>=1.1.0 in /usr/local/lib/python3.10/dist-packages (from tensorflow) (2.5.0)\n",
            "Requirement already satisfied: typing-extensions>=3.6.6 in /usr/local/lib/python3.10/dist-packages (from tensorflow) (4.12.2)\n",
            "Requirement already satisfied: wrapt>=1.11.0 in /usr/local/lib/python3.10/dist-packages (from tensorflow) (1.17.0)\n",
            "Requirement already satisfied: grpcio<2.0,>=1.24.3 in /usr/local/lib/python3.10/dist-packages (from tensorflow) (1.68.1)\n",
            "Requirement already satisfied: tensorboard<2.18,>=2.17 in /usr/local/lib/python3.10/dist-packages (from tensorflow) (2.17.1)\n",
            "Requirement already satisfied: keras>=3.2.0 in /usr/local/lib/python3.10/dist-packages (from tensorflow) (3.5.0)\n",
            "Requirement already satisfied: tensorflow-io-gcs-filesystem>=0.23.1 in /usr/local/lib/python3.10/dist-packages (from tensorflow) (0.37.1)\n",
            "Requirement already satisfied: numpy<2.0.0,>=1.23.5 in /usr/local/lib/python3.10/dist-packages (from tensorflow) (1.26.4)\n",
            "Requirement already satisfied: wheel<1.0,>=0.23.0 in /usr/local/lib/python3.10/dist-packages (from astunparse>=1.6.0->tensorflow) (0.45.1)\n",
            "Requirement already satisfied: rich in /usr/local/lib/python3.10/dist-packages (from keras>=3.2.0->tensorflow) (13.9.4)\n",
            "Requirement already satisfied: namex in /usr/local/lib/python3.10/dist-packages (from keras>=3.2.0->tensorflow) (0.0.8)\n",
            "Requirement already satisfied: optree in /usr/local/lib/python3.10/dist-packages (from keras>=3.2.0->tensorflow) (0.13.1)\n",
            "Requirement already satisfied: charset-normalizer<4,>=2 in /usr/local/lib/python3.10/dist-packages (from requests<3,>=2.21.0->tensorflow) (3.4.0)\n",
            "Requirement already satisfied: idna<4,>=2.5 in /usr/local/lib/python3.10/dist-packages (from requests<3,>=2.21.0->tensorflow) (3.10)\n",
            "Requirement already satisfied: urllib3<3,>=1.21.1 in /usr/local/lib/python3.10/dist-packages (from requests<3,>=2.21.0->tensorflow) (2.2.3)\n",
            "Requirement already satisfied: certifi>=2017.4.17 in /usr/local/lib/python3.10/dist-packages (from requests<3,>=2.21.0->tensorflow) (2024.12.14)\n",
            "Requirement already satisfied: markdown>=2.6.8 in /usr/local/lib/python3.10/dist-packages (from tensorboard<2.18,>=2.17->tensorflow) (3.7)\n",
            "Requirement already satisfied: tensorboard-data-server<0.8.0,>=0.7.0 in /usr/local/lib/python3.10/dist-packages (from tensorboard<2.18,>=2.17->tensorflow) (0.7.2)\n",
            "Requirement already satisfied: werkzeug>=1.0.1 in /usr/local/lib/python3.10/dist-packages (from tensorboard<2.18,>=2.17->tensorflow) (3.1.3)\n",
            "Requirement already satisfied: MarkupSafe>=2.1.1 in /usr/local/lib/python3.10/dist-packages (from werkzeug>=1.0.1->tensorboard<2.18,>=2.17->tensorflow) (3.0.2)\n",
            "Requirement already satisfied: markdown-it-py>=2.2.0 in /usr/local/lib/python3.10/dist-packages (from rich->keras>=3.2.0->tensorflow) (3.0.0)\n",
            "Requirement already satisfied: pygments<3.0.0,>=2.13.0 in /usr/local/lib/python3.10/dist-packages (from rich->keras>=3.2.0->tensorflow) (2.18.0)\n",
            "Requirement already satisfied: mdurl~=0.1 in /usr/local/lib/python3.10/dist-packages (from markdown-it-py>=2.2.0->rich->keras>=3.2.0->tensorflow) (0.1.2)\n"
          ]
        }
      ]
    },
    {
      "cell_type": "code",
      "source": [
        "import pandas as pd\n",
        "import numpy as np\n",
        "import tensorflow as tf\n",
        "from tensorflow.keras import layers\n",
        "from sklearn.preprocessing import MinMaxScaler\n",
        "import matplotlib.pyplot as plt\n",
        "train_set = pd.read_csv('/content/drive/My Drive/TCN/train_set.csv')\n",
        "val_set = pd.read_csv('/content/drive/My Drive/TCN/val_set.csv')\n",
        "\n",
        "features = [\n",
        "    'week',\n",
        "    'center_id',\n",
        "    'meal_id',\n",
        "    'base_price',\n",
        "    'emailer_for_promotion',\n",
        "    'homepage_featured',\n",
        "    'city_code',\n",
        "    'region_code',\n",
        "    'op_area',\n",
        "    'interaction_feature',\n",
        "    'rolling_mean_orders',\n",
        "    'rolling_std_orders',\n",
        "    'category_Biryani',\n",
        "    'category_Desert',\n",
        "    'category_Extras',\n",
        "    'category_Fish',\n",
        "    'category_Other Snacks',\n",
        "    'category_Pasta',\n",
        "    'category_Pizza',\n",
        "    'category_Rice Bowl',\n",
        "    'category_Salad',\n",
        "    'category_Sandwich',\n",
        "    'category_Seafood',\n",
        "    'category_Soup',\n",
        "    'category_Starters',\n",
        "    'cuisine_Indian',\n",
        "    'cuisine_Italian',\n",
        "    'cuisine_Thai',\n",
        "    'center_type_TYPE_B',\n",
        "    'center_type_TYPE_C'\n",
        "]\n",
        "lag_features = [\n",
        "    'num_orders_lag_1',\n",
        "    'num_orders_lag_2',\n",
        "    'num_orders_lag_3'\n",
        "]\n",
        "target = 'num_orders_winsorized'\n",
        "all_features = features + lag_features\n",
        "\n",
        "scaler = MinMaxScaler()\n",
        "train_set[all_features] = scaler.fit_transform(train_set[all_features])\n",
        "val_set[all_features] = scaler.transform(val_set[all_features])\n",
        "def create_sequences(data, target_col, seq_length):\n",
        "    sequences = []\n",
        "    targets = []\n",
        "    for i in range(len(data) - seq_length):\n",
        "        seq = data.iloc[i:i + seq_length][all_features].values\n",
        "        target = data.iloc[i + seq_length][target_col]\n",
        "        sequences.append(seq)\n",
        "        targets.append(target)\n",
        "    return np.array(sequences), np.array(targets)\n",
        "seq_length = 3\n",
        "X_train, y_train = create_sequences(train_set, target, seq_length)\n",
        "X_val, y_val = create_sequences(val_set, target, seq_length)\n",
        "print(f'X_train shape: {X_train.shape}, y_train shape: {y_train.shape}')\n",
        "print(f'X_val shape: {X_val.shape}, y_val shape: {y_val.shape}')\n"
      ],
      "metadata": {
        "colab": {
          "base_uri": "https://localhost:8080/"
        },
        "id": "V7G9jyMpiyI0",
        "outputId": "a048bbfe-f958-480a-d2d6-1726a31abd2a"
      },
      "execution_count": 6,
      "outputs": [
        {
          "output_type": "stream",
          "name": "stdout",
          "text": [
            "X_train shape: (306107, 3, 33), y_train shape: (306107,)\n",
            "X_val shape: (64192, 3, 33), y_val shape: (64192,)\n"
          ]
        }
      ]
    },
    {
      "cell_type": "code",
      "source": [
        "def create_tcn_model(input_shape, filters1, filters2, kernel_size=3, dilation_rate=2):\n",
        "    with tf.device('/GPU:0'):\n",
        "        inputs = layers.Input(shape=input_shape)\n",
        "        x = layers.Conv1D(filters=filters1, kernel_size=kernel_size, activation='relu', padding='causal', dilation_rate=dilation_rate)(inputs)\n",
        "        x = layers.Conv1D(filters=filters2, kernel_size=kernel_size, activation='relu', padding='causal', dilation_rate=dilation_rate)(x)\n",
        "        x = layers.Flatten()(x)\n",
        "        outputs = layers.Dense(1)(x)\n",
        "        model = tf.keras.Model(inputs=inputs, outputs=outputs)\n",
        "        model.compile(optimizer=tf.keras.optimizers.Adam(learning_rate=0.001), loss='mean_absolute_error')\n",
        "        return model\n",
        "model = create_tcn_model((X_train.shape[1], X_train.shape[2]), filters1=128, filters2=64)\n",
        "model.summary()\n",
        "\n",
        "train_losses, val_losses = [], []\n",
        "for epoch in range(100):\n",
        "    with tf.device('/GPU:0'):\n",
        "        history = model.fit(X_train, y_train, validation_data=(X_val, y_val), batch_size=16, verbose=0, epochs=1)\n",
        "        train_loss = history.history['loss'][0]\n",
        "        val_loss = history.history['val_loss'][0]\n",
        "        train_losses.append(train_loss)\n",
        "        val_losses.append(val_loss)\n",
        "        print(f\"Epoch {epoch + 1} - Train Loss: {train_loss:.4f}, Val Loss: {val_loss:.4f}\")\n",
        "\n",
        "print(f\"\\nFinal Train Loss: {train_losses[-1]:.4f}\")\n",
        "print(f\"Final Val Loss: {val_losses[-1]:.4f}\")\n",
        "y_pred = model.predict(X_val)\n",
        "plt.figure(figsize=(10, 6))\n",
        "plt.plot(train_losses, label='Train Loss')\n",
        "plt.plot(val_losses, label='Validation Loss')\n",
        "plt.xlabel('Epochs')\n",
        "plt.ylabel('Loss')\n",
        "plt.title('Training and Validation Loss')\n",
        "plt.legend()\n",
        "plt.grid()\n",
        "plt.show()\n",
        "model.save('/content/drive/My Drive/TCN/TCN_final_model.h5')\n"
      ],
      "metadata": {
        "colab": {
          "base_uri": "https://localhost:8080/",
          "height": 1000
        },
        "id": "VIZ8mHKYhL7J",
        "outputId": "9533d556-b8d6-448c-ab56-32bb4f132357"
      },
      "execution_count": 8,
      "outputs": [
        {
          "output_type": "display_data",
          "data": {
            "text/plain": [
              "\u001b[1mModel: \"functional_1\"\u001b[0m\n"
            ],
            "text/html": [
              "<pre style=\"white-space:pre;overflow-x:auto;line-height:normal;font-family:Menlo,'DejaVu Sans Mono',consolas,'Courier New',monospace\"><span style=\"font-weight: bold\">Model: \"functional_1\"</span>\n",
              "</pre>\n"
            ]
          },
          "metadata": {}
        },
        {
          "output_type": "display_data",
          "data": {
            "text/plain": [
              "┏━━━━━━━━━━━━━━━━━━━━━━━━━━━━━━━━━━━━━━┳━━━━━━━━━━━━━━━━━━━━━━━━━━━━━┳━━━━━━━━━━━━━━━━━┓\n",
              "┃\u001b[1m \u001b[0m\u001b[1mLayer (type)                        \u001b[0m\u001b[1m \u001b[0m┃\u001b[1m \u001b[0m\u001b[1mOutput Shape               \u001b[0m\u001b[1m \u001b[0m┃\u001b[1m \u001b[0m\u001b[1m        Param #\u001b[0m\u001b[1m \u001b[0m┃\n",
              "┡━━━━━━━━━━━━━━━━━━━━━━━━━━━━━━━━━━━━━━╇━━━━━━━━━━━━━━━━━━━━━━━━━━━━━╇━━━━━━━━━━━━━━━━━┩\n",
              "│ input_layer_1 (\u001b[38;5;33mInputLayer\u001b[0m)           │ (\u001b[38;5;45mNone\u001b[0m, \u001b[38;5;34m3\u001b[0m, \u001b[38;5;34m33\u001b[0m)               │               \u001b[38;5;34m0\u001b[0m │\n",
              "├──────────────────────────────────────┼─────────────────────────────┼─────────────────┤\n",
              "│ conv1d_2 (\u001b[38;5;33mConv1D\u001b[0m)                    │ (\u001b[38;5;45mNone\u001b[0m, \u001b[38;5;34m3\u001b[0m, \u001b[38;5;34m128\u001b[0m)              │          \u001b[38;5;34m12,800\u001b[0m │\n",
              "├──────────────────────────────────────┼─────────────────────────────┼─────────────────┤\n",
              "│ conv1d_3 (\u001b[38;5;33mConv1D\u001b[0m)                    │ (\u001b[38;5;45mNone\u001b[0m, \u001b[38;5;34m3\u001b[0m, \u001b[38;5;34m64\u001b[0m)               │          \u001b[38;5;34m24,640\u001b[0m │\n",
              "├──────────────────────────────────────┼─────────────────────────────┼─────────────────┤\n",
              "│ flatten_1 (\u001b[38;5;33mFlatten\u001b[0m)                  │ (\u001b[38;5;45mNone\u001b[0m, \u001b[38;5;34m192\u001b[0m)                 │               \u001b[38;5;34m0\u001b[0m │\n",
              "├──────────────────────────────────────┼─────────────────────────────┼─────────────────┤\n",
              "│ dense_1 (\u001b[38;5;33mDense\u001b[0m)                      │ (\u001b[38;5;45mNone\u001b[0m, \u001b[38;5;34m1\u001b[0m)                   │             \u001b[38;5;34m193\u001b[0m │\n",
              "└──────────────────────────────────────┴─────────────────────────────┴─────────────────┘\n"
            ],
            "text/html": [
              "<pre style=\"white-space:pre;overflow-x:auto;line-height:normal;font-family:Menlo,'DejaVu Sans Mono',consolas,'Courier New',monospace\">┏━━━━━━━━━━━━━━━━━━━━━━━━━━━━━━━━━━━━━━┳━━━━━━━━━━━━━━━━━━━━━━━━━━━━━┳━━━━━━━━━━━━━━━━━┓\n",
              "┃<span style=\"font-weight: bold\"> Layer (type)                         </span>┃<span style=\"font-weight: bold\"> Output Shape                </span>┃<span style=\"font-weight: bold\">         Param # </span>┃\n",
              "┡━━━━━━━━━━━━━━━━━━━━━━━━━━━━━━━━━━━━━━╇━━━━━━━━━━━━━━━━━━━━━━━━━━━━━╇━━━━━━━━━━━━━━━━━┩\n",
              "│ input_layer_1 (<span style=\"color: #0087ff; text-decoration-color: #0087ff\">InputLayer</span>)           │ (<span style=\"color: #00d7ff; text-decoration-color: #00d7ff\">None</span>, <span style=\"color: #00af00; text-decoration-color: #00af00\">3</span>, <span style=\"color: #00af00; text-decoration-color: #00af00\">33</span>)               │               <span style=\"color: #00af00; text-decoration-color: #00af00\">0</span> │\n",
              "├──────────────────────────────────────┼─────────────────────────────┼─────────────────┤\n",
              "│ conv1d_2 (<span style=\"color: #0087ff; text-decoration-color: #0087ff\">Conv1D</span>)                    │ (<span style=\"color: #00d7ff; text-decoration-color: #00d7ff\">None</span>, <span style=\"color: #00af00; text-decoration-color: #00af00\">3</span>, <span style=\"color: #00af00; text-decoration-color: #00af00\">128</span>)              │          <span style=\"color: #00af00; text-decoration-color: #00af00\">12,800</span> │\n",
              "├──────────────────────────────────────┼─────────────────────────────┼─────────────────┤\n",
              "│ conv1d_3 (<span style=\"color: #0087ff; text-decoration-color: #0087ff\">Conv1D</span>)                    │ (<span style=\"color: #00d7ff; text-decoration-color: #00d7ff\">None</span>, <span style=\"color: #00af00; text-decoration-color: #00af00\">3</span>, <span style=\"color: #00af00; text-decoration-color: #00af00\">64</span>)               │          <span style=\"color: #00af00; text-decoration-color: #00af00\">24,640</span> │\n",
              "├──────────────────────────────────────┼─────────────────────────────┼─────────────────┤\n",
              "│ flatten_1 (<span style=\"color: #0087ff; text-decoration-color: #0087ff\">Flatten</span>)                  │ (<span style=\"color: #00d7ff; text-decoration-color: #00d7ff\">None</span>, <span style=\"color: #00af00; text-decoration-color: #00af00\">192</span>)                 │               <span style=\"color: #00af00; text-decoration-color: #00af00\">0</span> │\n",
              "├──────────────────────────────────────┼─────────────────────────────┼─────────────────┤\n",
              "│ dense_1 (<span style=\"color: #0087ff; text-decoration-color: #0087ff\">Dense</span>)                      │ (<span style=\"color: #00d7ff; text-decoration-color: #00d7ff\">None</span>, <span style=\"color: #00af00; text-decoration-color: #00af00\">1</span>)                   │             <span style=\"color: #00af00; text-decoration-color: #00af00\">193</span> │\n",
              "└──────────────────────────────────────┴─────────────────────────────┴─────────────────┘\n",
              "</pre>\n"
            ]
          },
          "metadata": {}
        },
        {
          "output_type": "display_data",
          "data": {
            "text/plain": [
              "\u001b[1m Total params: \u001b[0m\u001b[38;5;34m37,633\u001b[0m (147.00 KB)\n"
            ],
            "text/html": [
              "<pre style=\"white-space:pre;overflow-x:auto;line-height:normal;font-family:Menlo,'DejaVu Sans Mono',consolas,'Courier New',monospace\"><span style=\"font-weight: bold\"> Total params: </span><span style=\"color: #00af00; text-decoration-color: #00af00\">37,633</span> (147.00 KB)\n",
              "</pre>\n"
            ]
          },
          "metadata": {}
        },
        {
          "output_type": "display_data",
          "data": {
            "text/plain": [
              "\u001b[1m Trainable params: \u001b[0m\u001b[38;5;34m37,633\u001b[0m (147.00 KB)\n"
            ],
            "text/html": [
              "<pre style=\"white-space:pre;overflow-x:auto;line-height:normal;font-family:Menlo,'DejaVu Sans Mono',consolas,'Courier New',monospace\"><span style=\"font-weight: bold\"> Trainable params: </span><span style=\"color: #00af00; text-decoration-color: #00af00\">37,633</span> (147.00 KB)\n",
              "</pre>\n"
            ]
          },
          "metadata": {}
        },
        {
          "output_type": "display_data",
          "data": {
            "text/plain": [
              "\u001b[1m Non-trainable params: \u001b[0m\u001b[38;5;34m0\u001b[0m (0.00 B)\n"
            ],
            "text/html": [
              "<pre style=\"white-space:pre;overflow-x:auto;line-height:normal;font-family:Menlo,'DejaVu Sans Mono',consolas,'Courier New',monospace\"><span style=\"font-weight: bold\"> Non-trainable params: </span><span style=\"color: #00af00; text-decoration-color: #00af00\">0</span> (0.00 B)\n",
              "</pre>\n"
            ]
          },
          "metadata": {}
        },
        {
          "output_type": "stream",
          "name": "stdout",
          "text": [
            "Epoch 1 - Train Loss: 137.7300, Val Loss: 128.8264\n",
            "Epoch 2 - Train Loss: 127.6889, Val Loss: 126.0004\n",
            "Epoch 3 - Train Loss: 124.2066, Val Loss: 122.3025\n",
            "Epoch 4 - Train Loss: 121.9870, Val Loss: 121.8749\n",
            "Epoch 5 - Train Loss: 120.3878, Val Loss: 120.2625\n",
            "Epoch 6 - Train Loss: 119.1637, Val Loss: 120.1359\n",
            "Epoch 7 - Train Loss: 118.1171, Val Loss: 118.7402\n",
            "Epoch 8 - Train Loss: 117.3101, Val Loss: 118.6424\n",
            "Epoch 9 - Train Loss: 116.5366, Val Loss: 117.8012\n",
            "Epoch 10 - Train Loss: 115.8133, Val Loss: 118.6459\n",
            "Epoch 11 - Train Loss: 115.2500, Val Loss: 117.2954\n",
            "Epoch 12 - Train Loss: 114.5786, Val Loss: 116.3077\n",
            "Epoch 13 - Train Loss: 114.2004, Val Loss: 116.8497\n",
            "Epoch 14 - Train Loss: 113.7997, Val Loss: 116.0440\n",
            "Epoch 15 - Train Loss: 113.3477, Val Loss: 116.7853\n",
            "Epoch 16 - Train Loss: 112.9722, Val Loss: 115.5305\n",
            "Epoch 17 - Train Loss: 112.6329, Val Loss: 116.3816\n",
            "Epoch 18 - Train Loss: 112.2474, Val Loss: 115.7865\n",
            "Epoch 19 - Train Loss: 111.8896, Val Loss: 115.2011\n",
            "Epoch 20 - Train Loss: 111.7186, Val Loss: 115.4165\n",
            "Epoch 21 - Train Loss: 111.4096, Val Loss: 115.5242\n",
            "Epoch 22 - Train Loss: 111.1704, Val Loss: 115.9089\n",
            "Epoch 23 - Train Loss: 110.8532, Val Loss: 115.4067\n",
            "Epoch 24 - Train Loss: 110.6199, Val Loss: 116.1772\n",
            "Epoch 25 - Train Loss: 110.3801, Val Loss: 115.3657\n",
            "Epoch 26 - Train Loss: 110.1602, Val Loss: 113.9713\n",
            "Epoch 27 - Train Loss: 109.9263, Val Loss: 114.2369\n",
            "Epoch 28 - Train Loss: 109.7414, Val Loss: 114.1648\n",
            "Epoch 29 - Train Loss: 109.5189, Val Loss: 114.2704\n",
            "Epoch 30 - Train Loss: 109.2991, Val Loss: 114.6395\n",
            "Epoch 31 - Train Loss: 109.1842, Val Loss: 115.0488\n",
            "Epoch 32 - Train Loss: 108.9389, Val Loss: 115.5751\n",
            "Epoch 33 - Train Loss: 108.8449, Val Loss: 114.3518\n",
            "Epoch 34 - Train Loss: 108.5970, Val Loss: 114.0979\n",
            "Epoch 35 - Train Loss: 108.4203, Val Loss: 114.3680\n",
            "Epoch 36 - Train Loss: 108.2888, Val Loss: 114.7811\n",
            "Epoch 37 - Train Loss: 108.1255, Val Loss: 114.2868\n",
            "Epoch 38 - Train Loss: 107.9470, Val Loss: 114.7156\n",
            "Epoch 39 - Train Loss: 107.7394, Val Loss: 114.0380\n",
            "Epoch 40 - Train Loss: 107.7280, Val Loss: 113.5827\n",
            "Epoch 41 - Train Loss: 107.4855, Val Loss: 113.4399\n",
            "Epoch 42 - Train Loss: 107.3127, Val Loss: 115.4773\n",
            "Epoch 43 - Train Loss: 107.2543, Val Loss: 114.2292\n",
            "Epoch 44 - Train Loss: 107.0923, Val Loss: 113.7820\n",
            "Epoch 45 - Train Loss: 106.9921, Val Loss: 114.1447\n",
            "Epoch 46 - Train Loss: 106.7656, Val Loss: 113.0552\n",
            "Epoch 47 - Train Loss: 106.6585, Val Loss: 114.1748\n",
            "Epoch 48 - Train Loss: 106.5927, Val Loss: 114.1012\n",
            "Epoch 49 - Train Loss: 106.4419, Val Loss: 114.5112\n",
            "Epoch 50 - Train Loss: 106.3310, Val Loss: 113.6503\n",
            "Epoch 51 - Train Loss: 106.1469, Val Loss: 114.0012\n",
            "Epoch 52 - Train Loss: 106.0672, Val Loss: 113.6490\n",
            "Epoch 53 - Train Loss: 105.9307, Val Loss: 113.1529\n",
            "Epoch 54 - Train Loss: 105.8237, Val Loss: 114.0994\n",
            "Epoch 55 - Train Loss: 105.7380, Val Loss: 113.2401\n",
            "Epoch 56 - Train Loss: 105.6466, Val Loss: 113.1720\n",
            "Epoch 57 - Train Loss: 105.5415, Val Loss: 113.6059\n",
            "Epoch 58 - Train Loss: 105.3776, Val Loss: 113.1350\n",
            "Epoch 59 - Train Loss: 105.3068, Val Loss: 113.9193\n",
            "Epoch 60 - Train Loss: 105.1937, Val Loss: 113.0543\n",
            "Epoch 61 - Train Loss: 105.0878, Val Loss: 114.1947\n",
            "Epoch 62 - Train Loss: 105.0033, Val Loss: 113.9959\n",
            "Epoch 63 - Train Loss: 104.9101, Val Loss: 114.1809\n",
            "Epoch 64 - Train Loss: 104.8741, Val Loss: 113.5862\n",
            "Epoch 65 - Train Loss: 104.7307, Val Loss: 113.7321\n",
            "Epoch 66 - Train Loss: 104.6337, Val Loss: 113.7637\n",
            "Epoch 67 - Train Loss: 104.5365, Val Loss: 113.9062\n",
            "Epoch 68 - Train Loss: 104.4812, Val Loss: 114.6366\n",
            "Epoch 69 - Train Loss: 104.3964, Val Loss: 114.8218\n",
            "Epoch 70 - Train Loss: 104.2806, Val Loss: 113.4992\n",
            "Epoch 71 - Train Loss: 104.2650, Val Loss: 114.9283\n",
            "Epoch 72 - Train Loss: 104.1565, Val Loss: 113.6009\n",
            "Epoch 73 - Train Loss: 104.0699, Val Loss: 113.2590\n",
            "Epoch 74 - Train Loss: 103.9570, Val Loss: 113.9074\n",
            "Epoch 75 - Train Loss: 103.8818, Val Loss: 114.0404\n",
            "Epoch 76 - Train Loss: 103.8464, Val Loss: 113.4807\n",
            "Epoch 77 - Train Loss: 103.7677, Val Loss: 113.4375\n",
            "Epoch 78 - Train Loss: 103.7127, Val Loss: 114.9261\n",
            "Epoch 79 - Train Loss: 103.5893, Val Loss: 114.1680\n",
            "Epoch 80 - Train Loss: 103.5379, Val Loss: 114.4320\n",
            "Epoch 81 - Train Loss: 103.4680, Val Loss: 114.2484\n",
            "Epoch 82 - Train Loss: 103.3651, Val Loss: 113.5031\n",
            "Epoch 83 - Train Loss: 103.3563, Val Loss: 115.2757\n",
            "Epoch 84 - Train Loss: 103.2719, Val Loss: 114.2454\n",
            "Epoch 85 - Train Loss: 103.2023, Val Loss: 113.5801\n",
            "Epoch 86 - Train Loss: 103.1372, Val Loss: 113.5559\n",
            "Epoch 87 - Train Loss: 103.0502, Val Loss: 113.7018\n",
            "Epoch 88 - Train Loss: 102.9864, Val Loss: 114.9629\n",
            "Epoch 89 - Train Loss: 102.9633, Val Loss: 114.1035\n",
            "Epoch 90 - Train Loss: 102.8550, Val Loss: 114.4711\n",
            "Epoch 91 - Train Loss: 102.8671, Val Loss: 113.8413\n",
            "Epoch 92 - Train Loss: 102.8303, Val Loss: 113.8319\n",
            "Epoch 93 - Train Loss: 102.7620, Val Loss: 114.0976\n",
            "Epoch 94 - Train Loss: 102.6722, Val Loss: 115.5475\n",
            "Epoch 95 - Train Loss: 102.5990, Val Loss: 114.1152\n",
            "Epoch 96 - Train Loss: 102.5942, Val Loss: 114.4715\n",
            "Epoch 97 - Train Loss: 102.5764, Val Loss: 113.6199\n",
            "Epoch 98 - Train Loss: 102.5110, Val Loss: 114.4253\n",
            "Epoch 99 - Train Loss: 102.4270, Val Loss: 113.8493\n",
            "Epoch 100 - Train Loss: 102.3508, Val Loss: 114.3051\n",
            "\n",
            "Final Train Loss: 102.3508\n",
            "Final Val Loss: 114.3051\n",
            "\u001b[1m2006/2006\u001b[0m \u001b[32m━━━━━━━━━━━━━━━━━━━━\u001b[0m\u001b[37m\u001b[0m \u001b[1m4s\u001b[0m 2ms/step\n"
          ]
        },
        {
          "output_type": "display_data",
          "data": {
            "text/plain": [
              "<Figure size 1000x600 with 1 Axes>"
            ],
            "image/png": "[encoded data removed]"
          },
          "metadata": {}
        },
        {
          "output_type": "stream",
          "name": "stderr",
          "text": [
            "WARNING:absl:You are saving your model as an HDF5 file via `model.save()` or `keras.saving.save_model(model)`. This file format is considered legacy. We recommend using instead the native Keras format, e.g. `model.save('my_model.keras')` or `keras.saving.save_model(model, 'my_model.keras')`. \n"
          ]
        }
      ]
    }
  ]
}